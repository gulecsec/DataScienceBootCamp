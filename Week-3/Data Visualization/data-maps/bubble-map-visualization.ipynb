{
 "cells": [
  {
   "cell_type": "markdown",
   "metadata": {},
   "source": [
    "# Bubble Map Visualization\n",
    "\n",
    "## Setup\n",
    "\n",
    "- **The Dataset**: let's analyze - from a graphical point of view - this [Kaggle Dataset](https://www.kaggle.com/datafiniti/fast-food-restaurants) about fast food restaurants.\n",
    "\n",
    "- **A new library**: during this exercise, we will learn how to manipulate `Plotly`, a very powerful graphics library! Let's install it:  https://pypi.org/project/plotly-express/\n",
    "\n",
    "Once it's done, let's import the libraries we need: `numpy`, `pandas`, and `plotly`\n"
   ]
  },
  {
   "cell_type": "code",
   "execution_count": 1,
   "metadata": {},
   "outputs": [],
   "source": [
    "import numpy as np\n",
    "import pandas as pd\n",
    "import plotly.express as px"
   ]
  },
  {
   "cell_type": "markdown",
   "metadata": {},
   "source": [
    "## Bubble Map 101\n",
    "\n",
    "The goal of this exercise is to plot a bubble map of the `FastFoodRestaurants.csv`. \n",
    "Your challenge is to manage to get:\n",
    "\n",
    "<br>\n",
    "<img src=\"https://wagon-public-datasets.s3.amazonaws.com/data-science-images/02-Data-Toolkit/03-Data-Visualization/020307-fastfood-restaurants-us.png\" height=\"100%\" width=\"100%\">\n",
    "Beautiful, isn't it? 🙂\n",
    "\n",
    "### Specs:\n",
    "\n",
    "- A bubble should represent a `city`,\n",
    "- A bubble's size should depend on the number of fastfood restaurants in the city,\n",
    "- The graph should be zoomed on the U.S. map,\n",
    "- When hovering on a bubble you should get the name of `city`,\n",
    "- The graph should have a relevant title\n",
    "\n",
    "*Here is the documentation of bubble maps 👉 https://plot.ly/python/bubble-maps/ enjoy!*\n",
    "\n",
    "❗ The dataset has the latitude & longitude of each restaurant, but we need the latitude & longitude of each city to plot our bubble map. To cope with this missing data, let's compute the latitude & longitude of each city on our own: assuming that the latitude & longitude of a city can be computed by taking the median of the latitude & longitude of all fastfood restaurants recorded in the city. \n",
    "\n",
    "\n",
    "------------------------------------------------------"
   ]
  },
  {
   "cell_type": "markdown",
   "metadata": {},
   "source": [
    "❓ Import the `FastFoodRestaurants.csv` dataset"
   ]
  },
  {
   "cell_type": "code",
   "execution_count": 2,
   "metadata": {},
   "outputs": [],
   "source": [
    "file = 'https://wagon-public-datasets.s3.amazonaws.com/Machine%20Learning%20Datasets/FastFoodRestaurants.csv'"
   ]
  },
  {
   "cell_type": "code",
   "execution_count": 6,
   "metadata": {
    "tags": [
     "challengify"
    ]
   },
   "outputs": [],
   "source": [
    "df = pd.read_csv(\"/Users/gulecs/Downloads/archive (2)/FastFoodRestaurants.csv\")"
   ]
  },
  {
   "cell_type": "markdown",
   "metadata": {},
   "source": [
    "❓ Explore the DataFrame - check the shape, missing values, data types, etc. (❗ make sure `latitude` and `longitude` columns are floats)"
   ]
  },
  {
   "cell_type": "code",
   "execution_count": 11,
   "metadata": {
    "tags": [
     "challengify"
    ]
   },
   "outputs": [
    {
     "data": {
      "text/plain": [
       "0       -74.890210\n",
       "1       -83.445260\n",
       "2       -83.791410\n",
       "3       -74.845530\n",
       "4       -82.097280\n",
       "           ...    \n",
       "9995    -82.024531\n",
       "9996    -88.255800\n",
       "9997   -105.101720\n",
       "9998   -116.482150\n",
       "9999   -117.789762\n",
       "Name: longitude, Length: 10000, dtype: float64"
      ]
     },
     "execution_count": 11,
     "metadata": {},
     "output_type": "execute_result"
    }
   ],
   "source": [
    "df[\"longitude\"]"
   ]
  },
  {
   "cell_type": "markdown",
   "metadata": {},
   "source": [
    "❓ Group the data by city and create an aggregated DataFrame with:\n",
    "    * `count` of restaurants per city\n",
    "    * `median` of latitude and longitude"
   ]
  },
  {
   "cell_type": "code",
   "execution_count": 20,
   "metadata": {
    "tags": [
     "challengify"
    ]
   },
   "outputs": [
    {
     "name": "stderr",
     "output_type": "stream",
     "text": [
      "/var/folders/95/y_36phrx0_128ngk52cfj39h0000gn/T/ipykernel_92344/4164987931.py:2: FutureWarning: The default value of numeric_only in DataFrameGroupBy.median is deprecated. In a future version, numeric_only will default to False. Either specify numeric_only or select only columns which should be valid for the function.\n",
      "  df.groupby(by=\"city\").median()\n"
     ]
    },
    {
     "data": {
      "text/html": [
       "<div>\n",
       "<style scoped>\n",
       "    .dataframe tbody tr th:only-of-type {\n",
       "        vertical-align: middle;\n",
       "    }\n",
       "\n",
       "    .dataframe tbody tr th {\n",
       "        vertical-align: top;\n",
       "    }\n",
       "\n",
       "    .dataframe thead th {\n",
       "        text-align: right;\n",
       "    }\n",
       "</style>\n",
       "<table border=\"1\" class=\"dataframe\">\n",
       "  <thead>\n",
       "    <tr style=\"text-align: right;\">\n",
       "      <th></th>\n",
       "      <th>latitude</th>\n",
       "      <th>longitude</th>\n",
       "    </tr>\n",
       "    <tr>\n",
       "      <th>city</th>\n",
       "      <th></th>\n",
       "      <th></th>\n",
       "    </tr>\n",
       "  </thead>\n",
       "  <tbody>\n",
       "    <tr>\n",
       "      <th>Abbeville</th>\n",
       "      <td>29.980450</td>\n",
       "      <td>-92.118881</td>\n",
       "    </tr>\n",
       "    <tr>\n",
       "      <th>Aberdeen</th>\n",
       "      <td>45.459458</td>\n",
       "      <td>-98.474165</td>\n",
       "    </tr>\n",
       "    <tr>\n",
       "      <th>Abilene</th>\n",
       "      <td>32.474910</td>\n",
       "      <td>-99.730590</td>\n",
       "    </tr>\n",
       "    <tr>\n",
       "      <th>Abingdon</th>\n",
       "      <td>36.701430</td>\n",
       "      <td>-81.975120</td>\n",
       "    </tr>\n",
       "    <tr>\n",
       "      <th>Acton</th>\n",
       "      <td>42.468486</td>\n",
       "      <td>-71.456183</td>\n",
       "    </tr>\n",
       "    <tr>\n",
       "      <th>...</th>\n",
       "      <td>...</td>\n",
       "      <td>...</td>\n",
       "    </tr>\n",
       "    <tr>\n",
       "      <th>Zachary</th>\n",
       "      <td>30.647280</td>\n",
       "      <td>-91.148850</td>\n",
       "    </tr>\n",
       "    <tr>\n",
       "      <th>Zanesville</th>\n",
       "      <td>39.969255</td>\n",
       "      <td>-82.016005</td>\n",
       "    </tr>\n",
       "    <tr>\n",
       "      <th>Zebulon</th>\n",
       "      <td>34.465989</td>\n",
       "      <td>-81.328820</td>\n",
       "    </tr>\n",
       "    <tr>\n",
       "      <th>Zion</th>\n",
       "      <td>42.455040</td>\n",
       "      <td>-87.824880</td>\n",
       "    </tr>\n",
       "    <tr>\n",
       "      <th>Zionsville</th>\n",
       "      <td>39.926328</td>\n",
       "      <td>-86.279043</td>\n",
       "    </tr>\n",
       "  </tbody>\n",
       "</table>\n",
       "<p>2775 rows × 2 columns</p>\n",
       "</div>"
      ],
      "text/plain": [
       "             latitude  longitude\n",
       "city                            \n",
       "Abbeville   29.980450 -92.118881\n",
       "Aberdeen    45.459458 -98.474165\n",
       "Abilene     32.474910 -99.730590\n",
       "Abingdon    36.701430 -81.975120\n",
       "Acton       42.468486 -71.456183\n",
       "...               ...        ...\n",
       "Zachary     30.647280 -91.148850\n",
       "Zanesville  39.969255 -82.016005\n",
       "Zebulon     34.465989 -81.328820\n",
       "Zion        42.455040 -87.824880\n",
       "Zionsville  39.926328 -86.279043\n",
       "\n",
       "[2775 rows x 2 columns]"
      ]
     },
     "execution_count": 20,
     "metadata": {},
     "output_type": "execute_result"
    }
   ],
   "source": [
    "df.groupby(by=\"city\").count()\n",
    "df.groupby(by=\"city\").median()"
   ]
  },
  {
   "cell_type": "markdown",
   "metadata": {},
   "source": [
    "❓ Plot the data as a bubble map with `Plotly` 🗺️"
   ]
  },
  {
   "cell_type": "code",
   "execution_count": null,
   "metadata": {
    "tags": [
     "challengify"
    ]
   },
   "outputs": [],
   "source": []
  },
  {
   "cell_type": "markdown",
   "metadata": {},
   "source": [
    "## Bubble Map with animation\n",
    "\n",
    "How about plotting the evolution of fastfood restaurants in the US?\n",
    "\n",
    "The dataset `Datafiniti_Fast_Food_Restaurants.csv` has a `dateAdded` column. Let's assume this Dataset is from UberEats database, and we want to see the evolution of fastfood restaurants available on UberEats app!\n",
    "We want to have this: \n",
    "<br>\n",
    "<img src=\"https://wagon-public-datasets.s3.amazonaws.com/data-science-images/02-Data-Toolkit/03-Data-Visualization/020307-animated-bubble-map.png\" height=\"100%\" width=\"100%\">\n",
    "\n",
    "👉 The slider should give the real time evolution 🙂 - each bubble referring to a new restaurant opened that year.\n",
    "\n",
    "Let's plot this! 💪"
   ]
  },
  {
   "cell_type": "markdown",
   "metadata": {},
   "source": [
    "❓ Load the `Datafiniti_Fast_Food_Restaurants.csv` dataset"
   ]
  },
  {
   "cell_type": "code",
   "execution_count": null,
   "metadata": {},
   "outputs": [],
   "source": [
    "file = \"https://wagon-public-datasets.s3.amazonaws.com/Machine%20Learning%20Datasets/Datafiniti_Fast_Food_Restaurants.csv\""
   ]
  },
  {
   "cell_type": "code",
   "execution_count": null,
   "metadata": {
    "tags": [
     "challengify"
    ]
   },
   "outputs": [],
   "source": [
    "# YOUR CODE HERE"
   ]
  },
  {
   "cell_type": "markdown",
   "metadata": {},
   "source": [
    "❓ Format the `dateAdded` column to just include the year as an integer"
   ]
  },
  {
   "cell_type": "code",
   "execution_count": null,
   "metadata": {
    "tags": [
     "challengify"
    ]
   },
   "outputs": [],
   "source": [
    "# YOUR CODE HERE"
   ]
  },
  {
   "cell_type": "markdown",
   "metadata": {},
   "source": [
    "❓ Plot the animated bubble map 🍿 Check `Plotly` [documentation](https://plot.ly/python/bubble-maps/) for help\n",
    "\n",
    "Here are some specs for the animated map:\n",
    "\n",
    "* The years on the timeline need to be in order\n",
    "* Each bubble should display the `name` of the restaurant on hover\n",
    "* The map should be zoomed in on the U.S.\n",
    "* The graph should have a relevant title"
   ]
  },
  {
   "cell_type": "code",
   "execution_count": null,
   "metadata": {
    "tags": [
     "challengify"
    ]
   },
   "outputs": [],
   "source": [
    "# YOUR CODE HERE"
   ]
  },
  {
   "cell_type": "markdown",
   "metadata": {},
   "source": [
    "# 🏁 Congrats on completing the challenge!\n",
    "\n",
    "Remember to `git add`, `git commit` and `git push` your code 💪"
   ]
  }
 ],
 "metadata": {
  "kernelspec": {
   "display_name": "Python 3 (ipykernel)",
   "language": "python",
   "name": "python3"
  },
  "language_info": {
   "codemirror_mode": {
    "name": "ipython",
    "version": 3
   },
   "file_extension": ".py",
   "mimetype": "text/x-python",
   "name": "python",
   "nbconvert_exporter": "python",
   "pygments_lexer": "ipython3",
   "version": "3.10.6"
  },
  "toc": {
   "base_numbering": 1,
   "nav_menu": {},
   "number_sections": true,
   "sideBar": true,
   "skip_h1_title": false,
   "title_cell": "Table of Contents",
   "title_sidebar": "Contents",
   "toc_cell": false,
   "toc_position": {},
   "toc_section_display": true,
   "toc_window_display": false
  }
 },
 "nbformat": 4,
 "nbformat_minor": 2
}
