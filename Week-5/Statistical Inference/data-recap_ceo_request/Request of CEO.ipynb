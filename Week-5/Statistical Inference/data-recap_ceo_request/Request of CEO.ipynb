{
 "cells": [
  {
   "cell_type": "code",
   "execution_count": 2,
   "id": "952dc9bf",
   "metadata": {},
   "outputs": [
    {
     "name": "stdout",
     "output_type": "stream",
     "text": [
      "The autoreload extension is already loaded. To reload it, use:\n",
      "  %reload_ext autoreload\n"
     ]
    }
   ],
   "source": [
    "%load_ext autoreload\n",
    "%autoreload 2"
   ]
  },
  {
   "cell_type": "code",
   "execution_count": 3,
   "id": "c72213d0",
   "metadata": {},
   "outputs": [],
   "source": [
    "import pandas as pd\n",
    "import seaborn as sns\n",
    "import matplotlib.pyplot as plt\n",
    "import numpy as np\n",
    "\n",
    "import statsmodels.api as sm\n",
    "import statsmodels.formula.api as smf\n",
    "from statsmodels.stats.outliers_influence import variance_inflation_factor as vif"
   ]
  },
  {
   "cell_type": "code",
   "execution_count": 4,
   "id": "81376b81",
   "metadata": {},
   "outputs": [],
   "source": [
    "from olist.data import Olist\n",
    "from olist.seller import Seller\n",
    "from olist.order import Order"
   ]
  },
  {
   "cell_type": "code",
   "execution_count": 12,
   "id": "b0ee04ff",
   "metadata": {},
   "outputs": [],
   "source": [
    "df_orders = Order().get_training_data(with_distance_seller_customer=True)\n",
    "df_sellers = Seller().get_training_data()\n",
    "df_order_reviews = Order().get_review_score()"
   ]
  },
  {
   "cell_type": "code",
   "execution_count": 6,
   "id": "ddc9fcce",
   "metadata": {},
   "outputs": [
    {
     "data": {
      "text/plain": [
       "dict_keys(['sellers', 'product_category_name_translation', 'orders', 'order_items', 'customers', 'geolocation', 'order_payments', 'order_reviews', 'products'])"
      ]
     },
     "execution_count": 6,
     "metadata": {},
     "output_type": "execute_result"
    }
   ],
   "source": [
    "data = Olist().get_data()\n",
    "data.keys()"
   ]
  },
  {
   "cell_type": "code",
   "execution_count": 9,
   "id": "190e7eca",
   "metadata": {},
   "outputs": [
    {
     "data": {
      "text/html": [
       "<div>\n",
       "<style scoped>\n",
       "    .dataframe tbody tr th:only-of-type {\n",
       "        vertical-align: middle;\n",
       "    }\n",
       "\n",
       "    .dataframe tbody tr th {\n",
       "        vertical-align: top;\n",
       "    }\n",
       "\n",
       "    .dataframe thead th {\n",
       "        text-align: right;\n",
       "    }\n",
       "</style>\n",
       "<table border=\"1\" class=\"dataframe\">\n",
       "  <thead>\n",
       "    <tr style=\"text-align: right;\">\n",
       "      <th></th>\n",
       "      <th>order_id</th>\n",
       "      <th>seller_id</th>\n",
       "    </tr>\n",
       "  </thead>\n",
       "  <tbody>\n",
       "    <tr>\n",
       "      <th>0</th>\n",
       "      <td>00010242fe8c5a6d1ba2dd792cb16214</td>\n",
       "      <td>48436dade18ac8b2bce089ec2a041202</td>\n",
       "    </tr>\n",
       "    <tr>\n",
       "      <th>1</th>\n",
       "      <td>00018f77f2f0320c557190d7a144bdd3</td>\n",
       "      <td>dd7ddc04e1b6c2c614352b383efe2d36</td>\n",
       "    </tr>\n",
       "    <tr>\n",
       "      <th>2</th>\n",
       "      <td>000229ec398224ef6ca0657da4fc703e</td>\n",
       "      <td>5b51032eddd242adc84c38acab88f23d</td>\n",
       "    </tr>\n",
       "    <tr>\n",
       "      <th>3</th>\n",
       "      <td>00024acbcdf0a6daa1e931b038114c75</td>\n",
       "      <td>9d7a1d34a5052409006425275ba1c2b4</td>\n",
       "    </tr>\n",
       "    <tr>\n",
       "      <th>4</th>\n",
       "      <td>00042b26cf59d7ce69dfabb4e55b4fd9</td>\n",
       "      <td>df560393f3a51e74553ab94004ba5c87</td>\n",
       "    </tr>\n",
       "  </tbody>\n",
       "</table>\n",
       "</div>"
      ],
      "text/plain": [
       "                           order_id                         seller_id\n",
       "0  00010242fe8c5a6d1ba2dd792cb16214  48436dade18ac8b2bce089ec2a041202\n",
       "1  00018f77f2f0320c557190d7a144bdd3  dd7ddc04e1b6c2c614352b383efe2d36\n",
       "2  000229ec398224ef6ca0657da4fc703e  5b51032eddd242adc84c38acab88f23d\n",
       "3  00024acbcdf0a6daa1e931b038114c75  9d7a1d34a5052409006425275ba1c2b4\n",
       "4  00042b26cf59d7ce69dfabb4e55b4fd9  df560393f3a51e74553ab94004ba5c87"
      ]
     },
     "execution_count": 9,
     "metadata": {},
     "output_type": "execute_result"
    }
   ],
   "source": [
    "df_order_sellers = data[\"order_items\"][[\"order_id\",\"seller_id\"]]\n",
    "df_order_sellers.head()"
   ]
  },
  {
   "cell_type": "code",
   "execution_count": 15,
   "id": "c02c2428",
   "metadata": {},
   "outputs": [
    {
     "data": {
      "text/html": [
       "<div>\n",
       "<style scoped>\n",
       "    .dataframe tbody tr th:only-of-type {\n",
       "        vertical-align: middle;\n",
       "    }\n",
       "\n",
       "    .dataframe tbody tr th {\n",
       "        vertical-align: top;\n",
       "    }\n",
       "\n",
       "    .dataframe thead th {\n",
       "        text-align: right;\n",
       "    }\n",
       "</style>\n",
       "<table border=\"1\" class=\"dataframe\">\n",
       "  <thead>\n",
       "    <tr style=\"text-align: right;\">\n",
       "      <th></th>\n",
       "      <th>order_id</th>\n",
       "      <th>dim_is_five_star</th>\n",
       "      <th>dim_is_one_star</th>\n",
       "      <th>review_score</th>\n",
       "      <th>seller_id</th>\n",
       "    </tr>\n",
       "  </thead>\n",
       "  <tbody>\n",
       "    <tr>\n",
       "      <th>0</th>\n",
       "      <td>73fc7af87114b39712e6da79b0a377eb</td>\n",
       "      <td>0</td>\n",
       "      <td>0</td>\n",
       "      <td>4</td>\n",
       "      <td>6d803cb79cc31c41c4c789a75933b3c7</td>\n",
       "    </tr>\n",
       "    <tr>\n",
       "      <th>1</th>\n",
       "      <td>73fc7af87114b39712e6da79b0a377eb</td>\n",
       "      <td>0</td>\n",
       "      <td>0</td>\n",
       "      <td>4</td>\n",
       "      <td>6d803cb79cc31c41c4c789a75933b3c7</td>\n",
       "    </tr>\n",
       "    <tr>\n",
       "      <th>2</th>\n",
       "      <td>a548910a1c6147796b98fdf73dbeba33</td>\n",
       "      <td>1</td>\n",
       "      <td>0</td>\n",
       "      <td>5</td>\n",
       "      <td>8e6d7754bc7e0f22c96d255ebda59eba</td>\n",
       "    </tr>\n",
       "    <tr>\n",
       "      <th>3</th>\n",
       "      <td>f9e4b658b201a9f2ecdecbb34bed034b</td>\n",
       "      <td>1</td>\n",
       "      <td>0</td>\n",
       "      <td>5</td>\n",
       "      <td>a1043bafd471dff536d0c462352beb48</td>\n",
       "    </tr>\n",
       "    <tr>\n",
       "      <th>4</th>\n",
       "      <td>658677c97b385a9be170737859d3511b</td>\n",
       "      <td>1</td>\n",
       "      <td>0</td>\n",
       "      <td>5</td>\n",
       "      <td>a1043bafd471dff536d0c462352beb48</td>\n",
       "    </tr>\n",
       "  </tbody>\n",
       "</table>\n",
       "</div>"
      ],
      "text/plain": [
       "                           order_id  dim_is_five_star  dim_is_one_star  \\\n",
       "0  73fc7af87114b39712e6da79b0a377eb                 0                0   \n",
       "1  73fc7af87114b39712e6da79b0a377eb                 0                0   \n",
       "2  a548910a1c6147796b98fdf73dbeba33                 1                0   \n",
       "3  f9e4b658b201a9f2ecdecbb34bed034b                 1                0   \n",
       "4  658677c97b385a9be170737859d3511b                 1                0   \n",
       "\n",
       "   review_score                         seller_id  \n",
       "0             4  6d803cb79cc31c41c4c789a75933b3c7  \n",
       "1             4  6d803cb79cc31c41c4c789a75933b3c7  \n",
       "2             5  8e6d7754bc7e0f22c96d255ebda59eba  \n",
       "3             5  a1043bafd471dff536d0c462352beb48  \n",
       "4             5  a1043bafd471dff536d0c462352beb48  "
      ]
     },
     "execution_count": 15,
     "metadata": {},
     "output_type": "execute_result"
    }
   ],
   "source": [
    "df_review_merged = df_order_reviews.merge(df_order_sellers, on = \"order_id\", how=\"left\")\n",
    "df_review_merged.head()"
   ]
  },
  {
   "cell_type": "code",
   "execution_count": 21,
   "id": "f689a00e",
   "metadata": {},
   "outputs": [],
   "source": [
    "df_review_merged[\"review_cost\"] = df_review_merged[\"review_score\"].map({1: 100, 2: 50, 3: 40, 4: 0, 5: 0})"
   ]
  },
  {
   "cell_type": "code",
   "execution_count": 24,
   "id": "914828aa",
   "metadata": {},
   "outputs": [
    {
     "data": {
      "text/html": [
       "<div>\n",
       "<style scoped>\n",
       "    .dataframe tbody tr th:only-of-type {\n",
       "        vertical-align: middle;\n",
       "    }\n",
       "\n",
       "    .dataframe tbody tr th {\n",
       "        vertical-align: top;\n",
       "    }\n",
       "\n",
       "    .dataframe thead th {\n",
       "        text-align: right;\n",
       "    }\n",
       "</style>\n",
       "<table border=\"1\" class=\"dataframe\">\n",
       "  <thead>\n",
       "    <tr style=\"text-align: right;\">\n",
       "      <th></th>\n",
       "      <th>review_cost</th>\n",
       "    </tr>\n",
       "    <tr>\n",
       "      <th>seller_id</th>\n",
       "      <th></th>\n",
       "    </tr>\n",
       "  </thead>\n",
       "  <tbody>\n",
       "    <tr>\n",
       "      <th>0015a82c2db000af6aaaf3ae2ecb0532</th>\n",
       "      <td>100</td>\n",
       "    </tr>\n",
       "    <tr>\n",
       "      <th>001cca7ae9ae17fb1caed9dfb1094831</th>\n",
       "      <td>4750</td>\n",
       "    </tr>\n",
       "    <tr>\n",
       "      <th>001e6ad469a905060d959994f1b41e4f</th>\n",
       "      <td>100</td>\n",
       "    </tr>\n",
       "    <tr>\n",
       "      <th>002100f778ceb8431b7a1020ff7ab48f</th>\n",
       "      <td>1110</td>\n",
       "    </tr>\n",
       "    <tr>\n",
       "      <th>003554e2dce176b5555353e4f3555ac8</th>\n",
       "      <td>0</td>\n",
       "    </tr>\n",
       "    <tr>\n",
       "      <th>...</th>\n",
       "      <td>...</td>\n",
       "    </tr>\n",
       "    <tr>\n",
       "      <th>ffcfefa19b08742c5d315f2791395ee5</th>\n",
       "      <td>100</td>\n",
       "    </tr>\n",
       "    <tr>\n",
       "      <th>ffdd9f82b9a447f6f8d4b91554cc7dd3</th>\n",
       "      <td>240</td>\n",
       "    </tr>\n",
       "    <tr>\n",
       "      <th>ffeee66ac5d5a62fe688b9d26f83f534</th>\n",
       "      <td>200</td>\n",
       "    </tr>\n",
       "    <tr>\n",
       "      <th>fffd5413c0700ac820c7069d66d98c89</th>\n",
       "      <td>1360</td>\n",
       "    </tr>\n",
       "    <tr>\n",
       "      <th>ffff564a4f9085cd26170f4732393726</th>\n",
       "      <td>1420</td>\n",
       "    </tr>\n",
       "  </tbody>\n",
       "</table>\n",
       "<p>3090 rows × 1 columns</p>\n",
       "</div>"
      ],
      "text/plain": [
       "                                  review_cost\n",
       "seller_id                                    \n",
       "0015a82c2db000af6aaaf3ae2ecb0532          100\n",
       "001cca7ae9ae17fb1caed9dfb1094831         4750\n",
       "001e6ad469a905060d959994f1b41e4f          100\n",
       "002100f778ceb8431b7a1020ff7ab48f         1110\n",
       "003554e2dce176b5555353e4f3555ac8            0\n",
       "...                                       ...\n",
       "ffcfefa19b08742c5d315f2791395ee5          100\n",
       "ffdd9f82b9a447f6f8d4b91554cc7dd3          240\n",
       "ffeee66ac5d5a62fe688b9d26f83f534          200\n",
       "fffd5413c0700ac820c7069d66d98c89         1360\n",
       "ffff564a4f9085cd26170f4732393726         1420\n",
       "\n",
       "[3090 rows x 1 columns]"
      ]
     },
     "execution_count": 24,
     "metadata": {},
     "output_type": "execute_result"
    }
   ],
   "source": [
    "df_review_grouped = df_review_merged.groupby('seller_id').sum()[['review_cost']]\n",
    "df_review_grouped"
   ]
  },
  {
   "cell_type": "code",
   "execution_count": null,
   "id": "c7ea54c8",
   "metadata": {},
   "outputs": [],
   "source": []
  }
 ],
 "metadata": {
  "kernelspec": {
   "display_name": "Python 3 (ipykernel)",
   "language": "python",
   "name": "python3"
  },
  "language_info": {
   "codemirror_mode": {
    "name": "ipython",
    "version": 3
   },
   "file_extension": ".py",
   "mimetype": "text/x-python",
   "name": "python",
   "nbconvert_exporter": "python",
   "pygments_lexer": "ipython3",
   "version": "3.10.6"
  },
  "toc": {
   "base_numbering": 1,
   "nav_menu": {},
   "number_sections": true,
   "sideBar": true,
   "skip_h1_title": false,
   "title_cell": "Table of Contents",
   "title_sidebar": "Contents",
   "toc_cell": false,
   "toc_position": {},
   "toc_section_display": true,
   "toc_window_display": false
  }
 },
 "nbformat": 4,
 "nbformat_minor": 5
}
